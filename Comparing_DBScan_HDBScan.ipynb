{
 "cells": [
  {
   "cell_type": "markdown",
   "metadata": {},
   "source": [
    "<p style=\"text-align:center\">\n",
    "    <a href=\"https://skills.network\" target=\"_blank\">\n",
    "    <img src=\"https://cf-courses-data.s3.us.cloud-object-storage.appdomain.cloud/assets/logos/SN_web_lightmode.png\" width=\"200\" alt=\"Skills Network Logo\">\n",
    "    </a>\n",
    "</p>\n",
    "\n",
    "\n",
    "# Comparing DBSCAN and HDBSCAN clustering \n",
    "Estimated time needed: **30** minutes\n",
    "    \n",
    "\n",
    "## Objectives\n",
    "\n",
    "\n",
    "After completing this lab, you will be able to:\n",
    "\n",
    "* Use scikit-learn to implement DBSCAN and HDBSCAN clustering models to real data\n",
    "* Compare the performances of the two models \n",
    "\n"
   ]
  },
  {
   "cell_type": "markdown",
   "metadata": {},
   "source": [
    "## Introduction\n",
    "In this lab, you'll create two clustering models using data curated by StatCan containing the names, types, and locations of\n",
    "cultural and art facilities across Canada.\n",
    "We'll focus on the museum locations provided across Canada.\n",
    "\n",
    "#### Data source: The Open Database of Cultural and Art Facilities (ODCAF)\n",
    "\n",
    "A collection of open data containing the names, types, and locations of cultural and art facilities across Canada. \n",
    "It is released under the Open Government License - Canada.\n",
    "The different types of facilities are labeled under 'ODCAF_Facility_Type'.\n",
    "\n",
    "#### Landing page:\n",
    "https://www.statcan.gc.ca/en/lode/databases/odcaf\n",
    "\n",
    "#### link to zip file:\n",
    "https://www150.statcan.gc.ca/n1/en/pub/21-26-0001/2020001/ODCAF_V1.0.zip?st=brOCT3Ry\n"
   ]
  },
  {
   "cell_type": "markdown",
   "metadata": {},
   "source": [
    "## Import the required libraries\n"
   ]
  },
  {
   "cell_type": "code",
   "execution_count": 1,
   "metadata": {},
   "outputs": [
    {
     "name": "stdout",
     "output_type": "stream",
     "text": [
      "Requirement already satisfied: numpy==2.2.0 in /opt/conda/lib/python3.12/site-packages (2.2.0)\n",
      "Requirement already satisfied: pandas==2.2.3 in /opt/conda/lib/python3.12/site-packages (2.2.3)\n",
      "Requirement already satisfied: numpy>=1.26.0 in /opt/conda/lib/python3.12/site-packages (from pandas==2.2.3) (2.2.0)\n",
      "Requirement already satisfied: python-dateutil>=2.8.2 in /opt/conda/lib/python3.12/site-packages (from pandas==2.2.3) (2.9.0.post0)\n",
      "Requirement already satisfied: pytz>=2020.1 in /opt/conda/lib/python3.12/site-packages (from pandas==2.2.3) (2024.2)\n",
      "Requirement already satisfied: tzdata>=2022.7 in /opt/conda/lib/python3.12/site-packages (from pandas==2.2.3) (2025.2)\n",
      "Requirement already satisfied: six>=1.5 in /opt/conda/lib/python3.12/site-packages (from python-dateutil>=2.8.2->pandas==2.2.3) (1.17.0)\n",
      "Requirement already satisfied: scikit-learn==1.6.0 in /opt/conda/lib/python3.12/site-packages (1.6.0)\n",
      "Requirement already satisfied: numpy>=1.19.5 in /opt/conda/lib/python3.12/site-packages (from scikit-learn==1.6.0) (2.2.0)\n",
      "Requirement already satisfied: scipy>=1.6.0 in /opt/conda/lib/python3.12/site-packages (from scikit-learn==1.6.0) (1.15.3)\n",
      "Requirement already satisfied: joblib>=1.2.0 in /opt/conda/lib/python3.12/site-packages (from scikit-learn==1.6.0) (1.5.1)\n",
      "Requirement already satisfied: threadpoolctl>=3.1.0 in /opt/conda/lib/python3.12/site-packages (from scikit-learn==1.6.0) (3.6.0)\n",
      "Requirement already satisfied: matplotlib==3.9.3 in /opt/conda/lib/python3.12/site-packages (3.9.3)\n",
      "Requirement already satisfied: contourpy>=1.0.1 in /opt/conda/lib/python3.12/site-packages (from matplotlib==3.9.3) (1.3.2)\n",
      "Requirement already satisfied: cycler>=0.10 in /opt/conda/lib/python3.12/site-packages (from matplotlib==3.9.3) (0.12.1)\n",
      "Requirement already satisfied: fonttools>=4.22.0 in /opt/conda/lib/python3.12/site-packages (from matplotlib==3.9.3) (4.58.4)\n",
      "Requirement already satisfied: kiwisolver>=1.3.1 in /opt/conda/lib/python3.12/site-packages (from matplotlib==3.9.3) (1.4.8)\n",
      "Requirement already satisfied: numpy>=1.23 in /opt/conda/lib/python3.12/site-packages (from matplotlib==3.9.3) (2.2.0)\n",
      "Requirement already satisfied: packaging>=20.0 in /opt/conda/lib/python3.12/site-packages (from matplotlib==3.9.3) (24.2)\n",
      "Requirement already satisfied: pillow>=8 in /opt/conda/lib/python3.12/site-packages (from matplotlib==3.9.3) (11.2.1)\n",
      "Requirement already satisfied: pyparsing>=2.3.1 in /opt/conda/lib/python3.12/site-packages (from matplotlib==3.9.3) (3.2.3)\n",
      "Requirement already satisfied: python-dateutil>=2.7 in /opt/conda/lib/python3.12/site-packages (from matplotlib==3.9.3) (2.9.0.post0)\n",
      "Requirement already satisfied: six>=1.5 in /opt/conda/lib/python3.12/site-packages (from python-dateutil>=2.7->matplotlib==3.9.3) (1.17.0)\n",
      "Requirement already satisfied: hdbscan==0.8.40 in /opt/conda/lib/python3.12/site-packages (0.8.40)\n",
      "Requirement already satisfied: numpy<3,>=1.20 in /opt/conda/lib/python3.12/site-packages (from hdbscan==0.8.40) (2.2.0)\n",
      "Requirement already satisfied: scipy>=1.0 in /opt/conda/lib/python3.12/site-packages (from hdbscan==0.8.40) (1.15.3)\n",
      "Requirement already satisfied: scikit-learn>=0.20 in /opt/conda/lib/python3.12/site-packages (from hdbscan==0.8.40) (1.6.0)\n",
      "Requirement already satisfied: joblib>=1.0 in /opt/conda/lib/python3.12/site-packages (from hdbscan==0.8.40) (1.5.1)\n",
      "Requirement already satisfied: threadpoolctl>=3.1.0 in /opt/conda/lib/python3.12/site-packages (from scikit-learn>=0.20->hdbscan==0.8.40) (3.6.0)\n",
      "Requirement already satisfied: geopandas==1.0.1 in /opt/conda/lib/python3.12/site-packages (1.0.1)\n",
      "Requirement already satisfied: numpy>=1.22 in /opt/conda/lib/python3.12/site-packages (from geopandas==1.0.1) (2.2.0)\n",
      "Requirement already satisfied: pyogrio>=0.7.2 in /opt/conda/lib/python3.12/site-packages (from geopandas==1.0.1) (0.11.0)\n",
      "Requirement already satisfied: packaging in /opt/conda/lib/python3.12/site-packages (from geopandas==1.0.1) (24.2)\n",
      "Requirement already satisfied: pandas>=1.4.0 in /opt/conda/lib/python3.12/site-packages (from geopandas==1.0.1) (2.2.3)\n",
      "Requirement already satisfied: pyproj>=3.3.0 in /opt/conda/lib/python3.12/site-packages (from geopandas==1.0.1) (3.7.1)\n",
      "Requirement already satisfied: shapely>=2.0.0 in /opt/conda/lib/python3.12/site-packages (from geopandas==1.0.1) (2.0.6)\n",
      "Requirement already satisfied: python-dateutil>=2.8.2 in /opt/conda/lib/python3.12/site-packages (from pandas>=1.4.0->geopandas==1.0.1) (2.9.0.post0)\n",
      "Requirement already satisfied: pytz>=2020.1 in /opt/conda/lib/python3.12/site-packages (from pandas>=1.4.0->geopandas==1.0.1) (2024.2)\n",
      "Requirement already satisfied: tzdata>=2022.7 in /opt/conda/lib/python3.12/site-packages (from pandas>=1.4.0->geopandas==1.0.1) (2025.2)\n",
      "Requirement already satisfied: certifi in /opt/conda/lib/python3.12/site-packages (from pyogrio>=0.7.2->geopandas==1.0.1) (2024.12.14)\n",
      "Requirement already satisfied: six>=1.5 in /opt/conda/lib/python3.12/site-packages (from python-dateutil>=2.8.2->pandas>=1.4.0->geopandas==1.0.1) (1.17.0)\n",
      "Requirement already satisfied: contextily==1.6.2 in /opt/conda/lib/python3.12/site-packages (1.6.2)\n",
      "Requirement already satisfied: geopy in /opt/conda/lib/python3.12/site-packages (from contextily==1.6.2) (2.4.1)\n",
      "Requirement already satisfied: matplotlib in /opt/conda/lib/python3.12/site-packages (from contextily==1.6.2) (3.9.3)\n",
      "Requirement already satisfied: mercantile in /opt/conda/lib/python3.12/site-packages (from contextily==1.6.2) (1.2.1)\n",
      "Requirement already satisfied: pillow in /opt/conda/lib/python3.12/site-packages (from contextily==1.6.2) (11.2.1)\n",
      "Requirement already satisfied: rasterio in /opt/conda/lib/python3.12/site-packages (from contextily==1.6.2) (1.4.3)\n",
      "Requirement already satisfied: requests in /opt/conda/lib/python3.12/site-packages (from contextily==1.6.2) (2.32.3)\n",
      "Requirement already satisfied: joblib in /opt/conda/lib/python3.12/site-packages (from contextily==1.6.2) (1.5.1)\n",
      "Requirement already satisfied: xyzservices in /opt/conda/lib/python3.12/site-packages (from contextily==1.6.2) (2025.4.0)\n",
      "Requirement already satisfied: geographiclib<3,>=1.52 in /opt/conda/lib/python3.12/site-packages (from geopy->contextily==1.6.2) (2.0)\n",
      "Requirement already satisfied: contourpy>=1.0.1 in /opt/conda/lib/python3.12/site-packages (from matplotlib->contextily==1.6.2) (1.3.2)\n",
      "Requirement already satisfied: cycler>=0.10 in /opt/conda/lib/python3.12/site-packages (from matplotlib->contextily==1.6.2) (0.12.1)\n",
      "Requirement already satisfied: fonttools>=4.22.0 in /opt/conda/lib/python3.12/site-packages (from matplotlib->contextily==1.6.2) (4.58.4)\n",
      "Requirement already satisfied: kiwisolver>=1.3.1 in /opt/conda/lib/python3.12/site-packages (from matplotlib->contextily==1.6.2) (1.4.8)\n",
      "Requirement already satisfied: numpy>=1.23 in /opt/conda/lib/python3.12/site-packages (from matplotlib->contextily==1.6.2) (2.2.0)\n",
      "Requirement already satisfied: packaging>=20.0 in /opt/conda/lib/python3.12/site-packages (from matplotlib->contextily==1.6.2) (24.2)\n",
      "Requirement already satisfied: pyparsing>=2.3.1 in /opt/conda/lib/python3.12/site-packages (from matplotlib->contextily==1.6.2) (3.2.3)\n",
      "Requirement already satisfied: python-dateutil>=2.7 in /opt/conda/lib/python3.12/site-packages (from matplotlib->contextily==1.6.2) (2.9.0.post0)\n",
      "Requirement already satisfied: click>=3.0 in /opt/conda/lib/python3.12/site-packages (from mercantile->contextily==1.6.2) (8.2.1)\n",
      "Requirement already satisfied: affine in /opt/conda/lib/python3.12/site-packages (from rasterio->contextily==1.6.2) (2.4.0)\n",
      "Requirement already satisfied: attrs in /opt/conda/lib/python3.12/site-packages (from rasterio->contextily==1.6.2) (25.1.0)\n",
      "Requirement already satisfied: certifi in /opt/conda/lib/python3.12/site-packages (from rasterio->contextily==1.6.2) (2024.12.14)\n",
      "Requirement already satisfied: cligj>=0.5 in /opt/conda/lib/python3.12/site-packages (from rasterio->contextily==1.6.2) (0.7.2)\n",
      "Requirement already satisfied: click-plugins in /opt/conda/lib/python3.12/site-packages (from rasterio->contextily==1.6.2) (1.1.1)\n",
      "Requirement already satisfied: charset_normalizer<4,>=2 in /opt/conda/lib/python3.12/site-packages (from requests->contextily==1.6.2) (3.4.1)\n",
      "Requirement already satisfied: idna<4,>=2.5 in /opt/conda/lib/python3.12/site-packages (from requests->contextily==1.6.2) (3.10)\n",
      "Requirement already satisfied: urllib3<3,>=1.21.1 in /opt/conda/lib/python3.12/site-packages (from requests->contextily==1.6.2) (2.3.0)\n",
      "Requirement already satisfied: six>=1.5 in /opt/conda/lib/python3.12/site-packages (from python-dateutil>=2.7->matplotlib->contextily==1.6.2) (1.17.0)\n",
      "Requirement already satisfied: shapely==2.0.6 in /opt/conda/lib/python3.12/site-packages (2.0.6)\n",
      "Requirement already satisfied: numpy<3,>=1.14 in /opt/conda/lib/python3.12/site-packages (from shapely==2.0.6) (2.2.0)\n"
     ]
    }
   ],
   "source": [
    "!pip install numpy==2.2.0\n",
    "!pip install pandas==2.2.3\n",
    "!pip install scikit-learn==1.6.0\n",
    "!pip install matplotlib==3.9.3\n",
    "!pip install hdbscan==0.8.40\n",
    "!pip install geopandas==1.0.1\n",
    "!pip install contextily==1.6.2\n",
    "!pip install shapely==2.0.6"
   ]
  },
  {
   "cell_type": "code",
   "execution_count": 2,
   "metadata": {},
   "outputs": [],
   "source": [
    "import numpy as np\n",
    "import pandas as pd\n",
    "import matplotlib.pyplot as plt\n",
    "from sklearn.cluster import DBSCAN\n",
    "import hdbscan\n",
    "from sklearn.preprocessing import StandardScaler\n",
    "\n",
    "# geographical tools\n",
    "import geopandas as gpd  # pandas dataframe-like geodataframes for geographical data\n",
    "import contextily as ctx  # used for obtianing a basemap of Canada\n",
    "from shapely.geometry import Point\n",
    "\n",
    "import warnings\n",
    "warnings.filterwarnings('ignore')"
   ]
  },
  {
   "cell_type": "markdown",
   "metadata": {},
   "source": [
    "## Download the Canada map for reference\n",
    "\n",
    "To get a proper context of the final output of this lab, you need a reference map of Canada. Execute the cell below to extract the same to this lab environment.\n"
   ]
  },
  {
   "cell_type": "code",
   "execution_count": 3,
   "metadata": {},
   "outputs": [
    {
     "name": "stdout",
     "output_type": "stream",
     "text": [
      "Downloaded and extracted: Canada.tif\n"
     ]
    }
   ],
   "source": [
    "import requests\n",
    "import zipfile\n",
    "import io\n",
    "import os\n",
    "\n",
    "# URL of the ZIP file on the cloud server\n",
    "zip_file_url = 'https://cf-courses-data.s3.us.cloud-object-storage.appdomain.cloud/YcUk-ytgrPkmvZAh5bf7zA/Canada.zip'\n",
    "\n",
    "# Directory to save the extracted TIFF file\n",
    "output_dir = './'\n",
    "os.makedirs(output_dir, exist_ok=True)\n",
    "\n",
    "# Step 1: Download the ZIP file\n",
    "response = requests.get(zip_file_url)\n",
    "response.raise_for_status()  # Ensure the request was successful\n",
    "# Step 2: Open the ZIP file in memory\n",
    "with zipfile.ZipFile(io.BytesIO(response.content)) as zip_ref:\n",
    "    # Step 3: Iterate over the files in the ZIP\n",
    "    for file_name in zip_ref.namelist():\n",
    "        if file_name.endswith('.tif'):  # Check if it's a TIFF file\n",
    "            # Step 4: Extract the TIFF file\n",
    "            zip_ref.extract(file_name, output_dir)\n",
    "            print(f\"Downloaded and extracted: {file_name}\")"
   ]
  },
  {
   "cell_type": "markdown",
   "metadata": {},
   "source": [
    "## Include a plotting function\n",
    "The code for a helper function is provided to help you plot your results. Although you don't need to worry about the details, it's quite instructive as it uses a geopandas dataframe and a basemap to plot coloured cluster points on a map of Canada.\n"
   ]
  },
  {
   "cell_type": "code",
   "execution_count": 4,
   "metadata": {},
   "outputs": [],
   "source": [
    "# Write a function that plots clustered locations and overlays them on a basemap.\n",
    "\n",
    "def plot_clustered_locations(df,  title='Museums Clustered by Proximity'):\n",
    "    \"\"\"\n",
    "    Plots clustered locations and overlays on a basemap.\n",
    "    \n",
    "    Parameters:\n",
    "    - df: DataFrame containing 'Latitude', 'Longitude', and 'Cluster' columns\n",
    "    - title: str, title of the plot\n",
    "    \"\"\"\n",
    "    \n",
    "    # Load the coordinates intto a GeoDataFrame\n",
    "    gdf = gpd.GeoDataFrame(df, geometry=gpd.points_from_xy(df['Longitude'], df['Latitude']), crs=\"EPSG:4326\")\n",
    "    \n",
    "    # Reproject to Web Mercator to align with basemap \n",
    "    gdf = gdf.to_crs(epsg=3857)\n",
    "    \n",
    "    # Create the plot\n",
    "    fig, ax = plt.subplots(figsize=(15, 10))\n",
    "    \n",
    "    # Separate non-noise, or clustered points from noise, or unclustered points\n",
    "    non_noise = gdf[gdf['Cluster'] != -1]\n",
    "    noise = gdf[gdf['Cluster'] == -1]\n",
    "    \n",
    "    # Plot noise points \n",
    "    noise.plot(ax=ax, color='k', markersize=30, ec='r', alpha=1, label='Noise')\n",
    "    \n",
    "    # Plot clustered points, colured by 'Cluster' number\n",
    "    non_noise.plot(ax=ax, column='Cluster', cmap='tab10', markersize=30, ec='k', legend=False, alpha=0.6)\n",
    "    \n",
    "    # Add basemap of  Canada\n",
    "    ctx.add_basemap(ax, source='./Canada.tif', zoom=4)\n",
    "    \n",
    "    # Format plot\n",
    "    plt.title(title, )\n",
    "    plt.xlabel('Longitude', )\n",
    "    plt.ylabel('Latitude', )\n",
    "    ax.set_xticks([])\n",
    "    ax.set_yticks([])\n",
    "    plt.tight_layout()\n",
    "    \n",
    "    # Show the plot\n",
    "    plt.show()"
   ]
  },
  {
   "cell_type": "markdown",
   "metadata": {},
   "source": [
    "## Explore the data and extract what you need from it\n"
   ]
  },
  {
   "cell_type": "markdown",
   "metadata": {},
   "source": [
    "#### Start by loading the data set into a Pandas DataFrame and displaying the first few rows.\n"
   ]
  },
  {
   "cell_type": "code",
   "execution_count": null,
   "metadata": {},
   "outputs": [],
   "source": [
    "url = 'https://cf-courses-data.s3.us.cloud-object-storage.appdomain.cloud/r-maSj5Yegvw2sJraT15FA/ODCAF-v1-0.csv'\n",
    "df = pd.read_csv(url, encoding = \"ISO-8859-1\")"
   ]
  },
  {
   "cell_type": "code",
   "execution_count": null,
   "metadata": {},
   "outputs": [],
   "source": [
    "df.head()"
   ]
  },
  {
   "cell_type": "markdown",
   "metadata": {},
   "source": [
    "### Exercise 1. Explore the table. What do missing values look like in this data set?\n"
   ]
  },
  {
   "cell_type": "markdown",
   "metadata": {},
   "source": [
    "<details><summary>Click here for the solution</summary>\n",
    "Strings consisting of two dots '..' indicate missing values. There miight still be empty fields, or NaNs.\n",
    "</details>\n"
   ]
  },
  {
   "cell_type": "markdown",
   "metadata": {},
   "source": [
    "### Exercise 2. Display the facility types and their counts.\n"
   ]
  },
  {
   "cell_type": "code",
   "execution_count": null,
   "metadata": {},
   "outputs": [],
   "source": [
    "# your code here\n"
   ]
  },
  {
   "cell_type": "markdown",
   "metadata": {},
   "source": [
    "<details><summary>Click here for the solution</summary>\n",
    "    \n",
    "```python\n",
    "df.ODCAF_Facility_Type.value_counts()\n",
    "```\n",
    "\n",
    "</details>\n"
   ]
  },
  {
   "cell_type": "markdown",
   "metadata": {},
   "source": [
    "### Exercise 3. Filter the data to only include museums.\n",
    "Check your results. Did you get as many as you expected?\n"
   ]
  },
  {
   "cell_type": "code",
   "execution_count": null,
   "metadata": {},
   "outputs": [],
   "source": [
    "# your code here"
   ]
  },
  {
   "cell_type": "markdown",
   "metadata": {},
   "source": [
    "<details><summary>Click here for the solution</summary>\n",
    "\n",
    "```python\n",
    "df = df[df.ODCAF_Facility_Type == 'museum']\n",
    "df.ODCAF_Facility_Type.value_counts()\n",
    "```\n",
    "\n",
    "</details>\n"
   ]
  },
  {
   "cell_type": "markdown",
   "metadata": {},
   "source": [
    "### Exercise 4.  Select only the Latitude and Longitude features as inputs to our clustering problem.\n",
    "Also, display information about the coordinates like counts and data types.\n"
   ]
  },
  {
   "cell_type": "code",
   "execution_count": null,
   "metadata": {},
   "outputs": [],
   "source": [
    "# your code here\n"
   ]
  },
  {
   "cell_type": "markdown",
   "metadata": {},
   "source": [
    "<details><summary>Click here for the solution</summary>\n",
    "\n",
    "```python\n",
    "df = df[['Latitude', 'Longitude']]\n",
    "df.info()\n",
    "```\n",
    "\n",
    "</details>\n"
   ]
  },
  {
   "cell_type": "markdown",
   "metadata": {},
   "source": [
    "### Exercise 5. We'll need these coordinates to be floats, not objects.\n",
    "Remove any museums that don't have coordinates, and convert the remaining coordinates to floats.\n"
   ]
  },
  {
   "cell_type": "code",
   "execution_count": null,
   "metadata": {},
   "outputs": [],
   "source": [
    "# your code here"
   ]
  },
  {
   "cell_type": "markdown",
   "metadata": {},
   "source": [
    "<details><summary>Click here for the solution</summary>\n",
    "\n",
    "```python\n",
    "\n",
    "# Remove observations with no coordinates \n",
    "df = df[df.Latitude!='..']\n",
    "\n",
    "# Convert to float\n",
    "df[['Latitude','Longitude']] = df[['Latitude','Longitude']].astype('float')\n",
    "```\n",
    "\n",
    "</details>\n"
   ]
  },
  {
   "cell_type": "markdown",
   "metadata": {},
   "source": [
    "## Build a DBSCAN model\n",
    "##### Correctly scale the coordinates for DBSCAN (since DBSCAN is sensitive to scale)\n"
   ]
  },
  {
   "cell_type": "code",
   "execution_count": null,
   "metadata": {},
   "outputs": [],
   "source": [
    "# In this case we know how to scale the coordinates. Using standardization would be an error becaues we aren't using the full range of the lat/lng coordinates.\n",
    "# Since latitude has a range of +/- 90 degrees and longitude ranges from 0 to 360 degrees, the correct scaling is to double the longitude coordinates (or half the Latitudes)\n",
    "coords_scaled = df.copy()\n",
    "coords_scaled[\"Latitude\"] = 2*coords_scaled[\"Latitude\"]"
   ]
  },
  {
   "cell_type": "markdown",
   "metadata": {},
   "source": [
    "### Apply DBSCAN with Euclidean distance to the scaled coordinates\n",
    "In this case, reasonable neighbourhood parameters are already chosen for you. Feel free to experiment.\n"
   ]
  },
  {
   "cell_type": "code",
   "execution_count": null,
   "metadata": {},
   "outputs": [],
   "source": [
    "min_samples=3 # minimum number of samples needed to form a neighbourhood\n",
    "eps=1.0 # neighbourhood search radius\n",
    "metric='euclidean' # distance measure \n",
    "\n",
    "dbscan = DBSCAN(eps=eps, min_samples=min_samples, metric=metric).fit(coords_scaled)"
   ]
  },
  {
   "cell_type": "markdown",
   "metadata": {},
   "source": [
    "### Add cluster labels to the DataFrame\n"
   ]
  },
  {
   "cell_type": "code",
   "execution_count": null,
   "metadata": {},
   "outputs": [],
   "source": [
    "df['Cluster'] = dbscan.fit_predict(coords_scaled)  # Assign the cluster labels\n",
    "\n",
    "# Display the size of each cluster\n",
    "df['Cluster'].value_counts()"
   ]
  },
  {
   "cell_type": "markdown",
   "metadata": {},
   "source": [
    "As you can see, there are two relatively large clusters and 79 points labelled as noise (-1).\n",
    "### Plot the museums on a basemap of Canada, colored by cluster label.\n"
   ]
  },
  {
   "cell_type": "code",
   "execution_count": null,
   "metadata": {},
   "outputs": [],
   "source": [
    "plot_clustered_locations(df, title='Museums Clustered by Proximity')"
   ]
  },
  {
   "cell_type": "markdown",
   "metadata": {},
   "source": [
    "- What do you see? \n",
    "- What size is the smallest cluster? \n",
    "- Do you think the clusters make sense in terms of what you expect to see? \n",
    "- Do you think there should be more clusters in some regions? Why?\n"
   ]
  },
  {
   "cell_type": "markdown",
   "metadata": {},
   "source": [
    "One key thing to notice here is that the clusters are not uniformly dense. \n",
    "\n",
    "For example, the points are quite densely packed in a few regions but are relatively sparse in between. \n",
    "\n",
    "DBSCAN agglomerates neighboring clusters together when they are close enough. \n",
    "\n",
    "Let's see how a hierarchical density-based clustering algorithm like HDBSCAN performs.\n"
   ]
  },
  {
   "cell_type": "markdown",
   "metadata": {},
   "source": [
    "## Build an HDBSCAN clustering model\n",
    "At this stage, you've already loaded your data and extracted the museum coordinates into a dataframe, df.\n",
    "\n",
    "You've also stored properly scaled coordinates as the 'coords_scaled' array.\n",
    "\n",
    "All that remains is to:\n",
    "- Fit and transform HDBSCAN to your scaled coordinates\n",
    "- Extract the cluster labels\n",
    "- Plot the results on the same basemap as before\n",
    "\n",
    "Reasonable HDBSCAN parameters have been selected for you to start with.\n"
   ]
  },
  {
   "cell_type": "markdown",
   "metadata": {},
   "source": [
    "#### Initialize an HDBSCAN model\n"
   ]
  },
  {
   "cell_type": "code",
   "execution_count": null,
   "metadata": {},
   "outputs": [],
   "source": [
    "min_samples=None\n",
    "min_cluster_size=3\n",
    "hdb = hdbscan.HDBSCAN(min_samples=min_samples, min_cluster_size=min_cluster_size, metric='euclidean')  # You can adjust parameters as needed"
   ]
  },
  {
   "cell_type": "markdown",
   "metadata": {},
   "source": [
    "### Exercise 6. Assign the cluster labels to your unscaled coordinate dataframe and display the counts of each cluster label.\n"
   ]
  },
  {
   "cell_type": "code",
   "execution_count": null,
   "metadata": {},
   "outputs": [],
   "source": [
    "# Enter code here:\n",
    "\n",
    "# Assign labels\n",
    "df['Cluster'] = hdb.fit_predict(...)  # Another way to assign the labels\n",
    "\n",
    "# Display the size of each cluster\n",
    "df['Cluster']....()"
   ]
  },
  {
   "cell_type": "markdown",
   "metadata": {},
   "source": [
    "<details><summary>Click here for the solution</summary>\n",
    "\n",
    "```python\n",
    "# Assign labels\n",
    "df['Cluster'] = hdb.fit_predict(coords_scaled)  # Another way to assign the labels\n",
    "\n",
    "# Display the size of each cluster\n",
    "df['Cluster'].value_counts()\n",
    "```\n"
   ]
  },
  {
   "cell_type": "markdown",
   "metadata": {},
   "source": [
    "As you can see, unlike the case for DBSCAN, clusters quite uniformly sized, although there is a quite lot of noise identified.\n",
    "### Exercise 7. Plot the hierarchically clustered museums on a basemap of Canada, colored by cluster label.\n"
   ]
  },
  {
   "cell_type": "code",
   "execution_count": null,
   "metadata": {},
   "outputs": [],
   "source": [
    "# Plot the museum clusters\n",
    "...(..., title='Museums Hierarchically Clustered by Proximity')"
   ]
  },
  {
   "cell_type": "markdown",
   "metadata": {},
   "source": [
    "<details><summary>Click here for the solution</summary>\n",
    "    \n",
    "```python\n",
    "# Plot the museum clusters\n",
    "plot_clustered_locations(df, title='Museums Hierarchically Clustered by Proximity')\n",
    "```\n"
   ]
  },
  {
   "cell_type": "markdown",
   "metadata": {},
   "source": [
    "### Closing remarks\n"
   ]
  },
  {
   "cell_type": "markdown",
   "metadata": {},
   "source": [
    "Take a close look at the map. \n",
    "- What's different about these results compared to DBSCAN?\n",
    "- It might seem like there are more points identified as noise, but is that the case?\n",
    "- Can you see the variations in density that HDBSCAN captures?\n",
    "- In practice, you would want to investigate much deeper but at least you get the idea here.\n"
   ]
  },
  {
   "cell_type": "markdown",
   "metadata": {},
   "source": [
    "## Summary\n",
    "Congratulations! You're ready to move on to your next lesson! In this lab, you learned how to implement DBSCAN and HDBSCAN clustering models using scikit-learn on real data from StatCan, focusing on museum locations across Canada. You also compared the performance of the two clustering techniques.\n",
    "\n",
    "## Author\n",
    "\n",
    "<a href=\"https://www.linkedin.com/in/jpgrossman/\" target=\"_blank\">Jeff Grossman</a>\n",
    "\n",
    "\n",
    "### Other Contributors\n",
    "\n",
    "<a href=\"https://www.linkedin.com/in/abhishek-gagneja-23051987/\" target=\"_blank\">Abhishek Gagneja</a>\n",
    "\n",
    "\n",
    "<!-- ## Changelog\n",
    "\n",
    "| Date | Version | Changed by | Change Description |\n",
    "|:------------|:------|:------------------|:---------------------------------------|\n",
    "| 2024-11-05 | 1.0  | Jeff Grossman    | Update content and practice exercises |\n",
    " -->\n",
    "\n",
    "\n",
    "## <h3 align=\"center\"> © IBM Corporation. All rights reserved. <h3/>\n",
    "\n",
    "\n"
   ]
  }
 ],
 "metadata": {
  "kernelspec": {
   "display_name": "Python 3 (ipykernel)",
   "language": "python",
   "name": "python3"
  },
  "language_info": {
   "codemirror_mode": {
    "name": "ipython",
    "version": 3
   },
   "file_extension": ".py",
   "mimetype": "text/x-python",
   "name": "python",
   "nbconvert_exporter": "python",
   "pygments_lexer": "ipython3",
   "version": "3.12.8"
  },
  "prev_pub_hash": "4140caeab2a312a0267718036ee66e12616d837761480db142164787e6968805"
 },
 "nbformat": 4,
 "nbformat_minor": 4
}
